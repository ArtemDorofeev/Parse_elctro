{
  "nbformat": 4,
  "nbformat_minor": 0,
  "metadata": {
    "colab": {
      "provenance": [],
      "name": "Onlite_post_parse.ipynb",
      "authorship_tag": "ABX9TyNRO+XA3mQarkKStzAEG0f+",
      "include_colab_link": true
    },
    "kernelspec": {
      "name": "python3",
      "display_name": "Python 3"
    },
    "language_info": {
      "name": "python"
    }
  },
  "cells": [
    {
      "cell_type": "markdown",
      "metadata": {
        "id": "view-in-github",
        "colab_type": "text"
      },
      "source": [
        "<a href=\"https://colab.research.google.com/github/ArtemDorofeev/Parse_elctro/blob/main/Onlite_post_parse.ipynb\" target=\"_parent\"><img src=\"https://colab.research.google.com/assets/colab-badge.svg\" alt=\"Open In Colab\"/></a>"
      ]
    },
    {
      "cell_type": "code",
      "source": [
        "import requests\n",
        "import json\n",
        "import time\n",
        "import csv\n",
        "\n",
        "URL = \"http://www.onlt.ru/index/filter-ajax.html\""
      ],
      "metadata": {
        "id": "HrBj7n52Yf48"
      },
      "execution_count": null,
      "outputs": []
    },
    {
      "cell_type": "code",
      "source": [
        "def get_text(msg):\n",
        "  headers = {\n",
        "        \"User-Agent\": \"Mozilla/5.0 (Windows NT 10.0; Win64; x64) AppleWebKit/537.36 (KHTML, like Gecko) Chrome/108.0.0.0 Safari/537.36\",\n",
        "        \"Accept-language\": \"ru-RU,ru;q=0.9,en-US;q=0.8,en;q=0.7\",\n",
        "        \"Content-Type\": \"application/x-www-form-urlencoded\"\n",
        "  }\n",
        "  queries = 'values_form=qwer%3D'+ msg\n",
        "  response = requests.post(URL, headers=headers, data=queries)\n",
        "  txt = response.text\n",
        "  return txt\n"
      ],
      "metadata": {
        "id": "LciRoDScHDZS"
      },
      "execution_count": null,
      "outputs": []
    },
    {
      "cell_type": "code",
      "source": [
        "with open('art_onlite.csv') as f:\n",
        "    reader = csv.reader(f)\n",
        "    lst_art = []\n",
        "    for row in reader:\n",
        "      lst_art += row"
      ],
      "metadata": {
        "id": "JVGyE--eGG4Z"
      },
      "execution_count": null,
      "outputs": []
    },
    {
      "cell_type": "code",
      "source": [
        "lst_art"
      ],
      "metadata": {
        "id": "p5nWgLrMtcmE"
      },
      "execution_count": null,
      "outputs": []
    },
    {
      "cell_type": "code",
      "source": [
        "catalog = []\n",
        "\n",
        "for i in lst_art:\n",
        "  time.sleep(1)\n",
        "  source = get_text(i)\n",
        "  x = source.find(\"siteID=\")\n",
        "  sitid = source[x:x+13]\n",
        "  dic = {'article': i, 'siteID': sitid}\n",
        "  catalog.append(dic)\n"
      ],
      "metadata": {
        "id": "GxXwQQ0_8rnf"
      },
      "execution_count": null,
      "outputs": []
    },
    {
      "cell_type": "code",
      "source": [
        "catalog"
      ],
      "metadata": {
        "id": "6yjO216QHUcu"
      },
      "execution_count": null,
      "outputs": []
    },
    {
      "cell_type": "code",
      "source": [
        "with open('file.csv', 'w', newline='') as file:\n",
        "    writer = csv.DictWriter(file, fieldnames=catalog[0])\n",
        "    writer.writeheader()\n",
        "    writer.writerows(catalog)"
      ],
      "metadata": {
        "id": "6R9m5x9NDroM"
      },
      "execution_count": null,
      "outputs": []
    }
  ]
}