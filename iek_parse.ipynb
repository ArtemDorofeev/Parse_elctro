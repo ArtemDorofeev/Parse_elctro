{
  "nbformat": 4,
  "nbformat_minor": 0,
  "metadata": {
    "colab": {
      "provenance": [],
      "name": "iek_parse.ipynb",
      "authorship_tag": "ABX9TyPwoqDFCtAi8jVApBUYHrXV",
      "include_colab_link": true
    },
    "kernelspec": {
      "name": "python3",
      "display_name": "Python 3"
    },
    "language_info": {
      "name": "python"
    }
  },
  "cells": [
    {
      "cell_type": "markdown",
      "metadata": {
        "id": "view-in-github",
        "colab_type": "text"
      },
      "source": [
        "<a href=\"https://colab.research.google.com/github/ArtemDorofeev/Parse_elctro/blob/main/iek_parse.ipynb\" target=\"_parent\"><img src=\"https://colab.research.google.com/assets/colab-badge.svg\" alt=\"Open In Colab\"/></a>"
      ]
    },
    {
      "cell_type": "code",
      "source": [
        "import requests\n",
        "import json\n",
        "import time\n",
        "import csv\n",
        "\n",
        "URL = \"https://api-02.iek.ru/catalog/v1/search\""
      ],
      "metadata": {
        "id": "HrBj7n52Yf48"
      },
      "execution_count": null,
      "outputs": []
    },
    {
      "cell_type": "code",
      "source": [
        "# Создаем request запрос для получения soup объекта\n",
        "\n",
        "def get_text(msg):\n",
        "  headers = {\n",
        "        \"User-Agent\": \"Mozilla/5.0 (Windows NT 10.0; Win64; x64) AppleWebKit/537.36 (KHTML, like Gecko) Chrome/108.0.0.0 Safari/537.36\",\n",
        "        \"Accept-language\": \"ru-RU,ru;q=0.9,en-US;q=0.8,en;q=0.7\",\n",
        "        \"Content-Type\": \"application/json\"\n",
        "  }\n",
        "  queries = json.dumps({\"query\": msg})\n",
        "  response = requests.post(URL, headers=headers, data=queries)\n",
        "  txt = response.text\n",
        "  return txt\n"
      ],
      "metadata": {
        "id": "LciRoDScHDZS"
      },
      "execution_count": null,
      "outputs": []
    },
    {
      "cell_type": "code",
      "source": [
        "# Выбираем характеристики из soup объекта\n",
        "\n",
        "def char_in_list(row, val):\n",
        "  try:\n",
        "    char = jsource[row][0]['etim']['features']\n",
        "    lst = [[i], [], [], [], [], [], [], []]\n",
        "    for j in range(len(lst)):\n",
        "      for k in char:\n",
        "        if val[j] in k['name'].lower():\n",
        "          n = k['value']\n",
        "          lst[j+1].append(n)\n",
        "\n",
        "    catalog.append(lst)\n",
        "    return catalog\n",
        "  except:\n",
        "    lst = [[i], [], [], [], [], [], [], []]\n",
        "    catalog.append(lst)\n",
        "    return catalog"
      ],
      "metadata": {
        "id": "IkrID9fsvmob"
      },
      "execution_count": null,
      "outputs": []
    },
    {
      "cell_type": "code",
      "source": [
        "with open('art_for_parse.csv') as f:\n",
        "    reader = csv.reader(f)\n",
        "    lst_art = []\n",
        "    for row in reader:\n",
        "      lst_art += row"
      ],
      "metadata": {
        "id": "JVGyE--eGG4Z"
      },
      "execution_count": null,
      "outputs": []
    },
    {
      "cell_type": "code",
      "source": [
        "#lst_art = ['LLF-A60-11-230-65-E27-CL', 'LDPA0-2101-30-K01', 'LDPOA-5342-12-4000-K01', 'LLF-CT35-7-230-40-E27-CL', 'LLA-A60-10-230-65-E27', 'LLE-CORN-3-12-30-G4', 'LSR1-1-060-20-3-20', 'LSP1-150-12-67-33-PRO', 'LSP1-360-12-20-33-PRO']\n",
        "key_list = ['мощность', 'световой поток', 'цветовая температура', 'индекс цветопередачи', 'ip', 'цоколь', 'колбы']"
      ],
      "metadata": {
        "id": "h2aO90_EIo3Z"
      },
      "execution_count": null,
      "outputs": []
    },
    {
      "cell_type": "code",
      "source": [
        "# Выбираем целевые характеристики по списку key_list\n",
        "\n",
        "catalog = []\n",
        "\n",
        "for i in lst_art:\n",
        "  time.sleep(1)\n",
        "  source = get_text(i)\n",
        "  jsource = json.loads(source)\n",
        "  if jsource['products']:\n",
        "    try:\n",
        "    #char_in_list('products', key_list)\n",
        "      char = jsource['products'][0]['etim']['features']\n",
        "      lst = [[i], [], [], [], [], [], [], []]\n",
        "      for j in range(len(key_list)):\n",
        "        for k in char:\n",
        "          if key_list[j] in k['name'].lower():\n",
        "            nam = k['name']\n",
        "            val = k['value']\n",
        "            lst[j+1].append(nam)\n",
        "            lst[j+1].append(val)\n",
        "\n",
        "      catalog.append(lst)\n",
        "    except:\n",
        "      lst = [[i], [], [], [], [], [], [], []]\n",
        "      catalog.append(lst)\n",
        "  else:\n",
        "    lst = [[i], [], [], [], [], [], [], []]\n",
        "    catalog.append(lst)\n"
      ],
      "metadata": {
        "id": "GxXwQQ0_8rnf"
      },
      "execution_count": null,
      "outputs": []
    },
    {
      "cell_type": "code",
      "source": [
        "jsource = json.loads(source)\n",
        "jsource['products'][0]['etim']['features']"
      ],
      "metadata": {
        "id": "X6x_euY0JfuN"
      },
      "execution_count": null,
      "outputs": []
    },
    {
      "cell_type": "code",
      "source": [
        "catalog"
      ],
      "metadata": {
        "id": "6yjO216QHUcu"
      },
      "execution_count": null,
      "outputs": []
    },
    {
      "cell_type": "code",
      "source": [
        "# Записываем данные в csv\n",
        "\n",
        "import csv\n",
        "\n",
        "with open('char_parse.csv', 'w') as f:\n",
        "    writer = csv.writer(f, quoting=csv.QUOTE_NONNUMERIC)\n",
        "    for row in catalog:\n",
        "        writer.writerow(row)\n",
        "\n",
        "#with open('sw_data_new.csv') as f:\n",
        "    #print(f.read())"
      ],
      "metadata": {
        "id": "6R9m5x9NDroM"
      },
      "execution_count": null,
      "outputs": []
    }
  ]
}