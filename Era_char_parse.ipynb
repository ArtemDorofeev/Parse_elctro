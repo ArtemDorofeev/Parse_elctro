{
  "nbformat": 4,
  "nbformat_minor": 0,
  "metadata": {
    "colab": {
      "provenance": [],
      "name": "Era_char_parse.ipynb",
      "authorship_tag": "ABX9TyOgwwqbGCbJ6vRxLnIKHnoQ",
      "include_colab_link": true
    },
    "kernelspec": {
      "name": "python3",
      "display_name": "Python 3"
    },
    "language_info": {
      "name": "python"
    }
  },
  "cells": [
    {
      "cell_type": "markdown",
      "metadata": {
        "id": "view-in-github",
        "colab_type": "text"
      },
      "source": [
        "<a href=\"https://colab.research.google.com/github/ArtemDorofeev/Parse_elctro/blob/main/Era_char_parse.ipynb\" target=\"_parent\"><img src=\"https://colab.research.google.com/assets/colab-badge.svg\" alt=\"Open In Colab\"/></a>"
      ]
    },
    {
      "cell_type": "markdown",
      "source": [
        "# парсинг"
      ],
      "metadata": {
        "id": "uaIeb2gxmFx2"
      }
    },
    {
      "cell_type": "code",
      "execution_count": null,
      "metadata": {
        "colab": {
          "base_uri": "https://localhost:8080/"
        },
        "id": "LkfeFFdVRrLh",
        "outputId": "d62d275f-185e-4be6-aff4-ae49829d1bff"
      },
      "outputs": [
        {
          "output_type": "stream",
          "name": "stdout",
          "text": [
            "/usr/local/lib/python3.8/dist-packages/gdown/cli.py:127: FutureWarning: Option `--id` was deprecated in version 4.3.1 and will be removed in 5.0. You don't need to pass it anymore to use a file ID.\n",
            "  warnings.warn(\n",
            "Downloading...\n",
            "From: https://drive.google.com/uc?id=1Hv0JJXuGrPLHv5z9TY8ZFjaRGmhHhb05\n",
            "To: /content/prices.xlsx\n",
            "100% 158k/158k [00:00<00:00, 70.8MB/s]\n"
          ]
        }
      ],
      "source": [
        "# Подключаем загрузку файла датасета с Гугл Диска\n",
        "\n",
        "!gdown --id 1Hv0JJXuGrPLHv5z9TY8ZFjaRGmhHhb05"
      ]
    },
    {
      "cell_type": "code",
      "source": [
        "import pandas as pd\n",
        "import numpy as np\n",
        "import requests\n",
        "from bs4 import BeautifulSoup\n",
        "import lxml\n",
        "import json\n",
        "import time\n",
        "import csv\n"
      ],
      "metadata": {
        "id": "HrBj7n52Yf48"
      },
      "execution_count": null,
      "outputs": []
    },
    {
      "cell_type": "code",
      "source": [
        "# Записываем подгруженный файл excel в датафрейм, выводим информацию о нем\n",
        "\n",
        "df = pd.read_excel('prices.xlsx')"
      ],
      "metadata": {
        "id": "9mXK50XNWNuC"
      },
      "execution_count": null,
      "outputs": []
    },
    {
      "cell_type": "code",
      "source": [
        "df = df[['Unnamed: 0.1', 'Unnamed: 3', 'Unnamed: 4', 'Unnamed: 5']]"
      ],
      "metadata": {
        "id": "JRFzBDn2lfOt"
      },
      "execution_count": null,
      "outputs": []
    },
    {
      "cell_type": "code",
      "source": [
        "df = df.rename(columns={'Unnamed: 0.1': 'number', 'Unnamed: 3': 'art', 'Unnamed: 4': 'name', 'Unnamed: 5': 'link'})"
      ],
      "metadata": {
        "id": "JC4lT-ayfR_0"
      },
      "execution_count": null,
      "outputs": []
    },
    {
      "cell_type": "code",
      "source": [
        "df"
      ],
      "metadata": {
        "colab": {
          "base_uri": "https://localhost:8080/",
          "height": 424
        },
        "id": "C2gNxnyteULk",
        "outputId": "b7eb8fda-f6b2-4d89-a250-f9545a7a59ab"
      },
      "execution_count": null,
      "outputs": [
        {
          "output_type": "execute_result",
          "data": {
            "text/plain": [
              "      number       art                                               name  \\\n",
              "0          1  Б0051088  Модуль светодиодный ЭРА Аксессуары SPB-6 с пул...   \n",
              "1          2  Б0051089  Модуль светодиодный ЭРА Аксессуары SPB-6 с пул...   \n",
              "2          3  Б0051090  Модуль светодиодный ЭРА Аксессуары SPB-6 с пул...   \n",
              "3          4  Б0051091  Модуль светодиодный ЭРА Аксессуары SPB-6 с пул...   \n",
              "4          5  Б0051103  Плафон ЭРА Подвесной к-т SPB-6 - подвесной ком...   \n",
              "...      ...       ...                                                ...   \n",
              "2277      93  Б0052013  Светильник ЭРА НСП 01-60-003 подвесной Гранат ...   \n",
              "2278      94  Б0052017  Светильник ЭРА НСП 02-100-001 без решетки Желу...   \n",
              "2279      95  Б0052019  Светильник ЭРА НСП 02-100-003 с решеткой Желуд...   \n",
              "2280      96  Б0052018  Светильник ЭРА НСП 41-200-001 без решетки Желу...   \n",
              "2281      97  Б0052020  Светильник ЭРА НСП 41-200-003 с решеткой Желуд...   \n",
              "\n",
              "                                                   link  \n",
              "0     https://era-world.ru/modul-svetodiodnyy-era-ak...  \n",
              "1     https://era-world.ru/modul-svetodiodnyy-era-ak...  \n",
              "2     https://era-world.ru/modul-svetodiodnyy-era-ak...  \n",
              "3     https://era-world.ru/modul-svetodiodnyy-era-ak...  \n",
              "4     https://era-world.ru/plafon-era-podvesnoy-k-t-...  \n",
              "...                                                 ...  \n",
              "2277  https://era-world.ru/svetil-nik-era-nsp-01-60-...  \n",
              "2278  https://era-world.ru/svetil-nik-era-nsp-02-100...  \n",
              "2279  https://era-world.ru/svetil-nik-era-nsp-02-100...  \n",
              "2280  https://era-world.ru/svetil-nik-era-nsp-41-200...  \n",
              "2281  https://era-world.ru/svetil-nik-era-nsp-41-200...  \n",
              "\n",
              "[2282 rows x 4 columns]"
            ],
            "text/html": [
              "\n",
              "  <div id=\"df-737dc84c-9128-4646-bf04-639d49eb7923\">\n",
              "    <div class=\"colab-df-container\">\n",
              "      <div>\n",
              "<style scoped>\n",
              "    .dataframe tbody tr th:only-of-type {\n",
              "        vertical-align: middle;\n",
              "    }\n",
              "\n",
              "    .dataframe tbody tr th {\n",
              "        vertical-align: top;\n",
              "    }\n",
              "\n",
              "    .dataframe thead th {\n",
              "        text-align: right;\n",
              "    }\n",
              "</style>\n",
              "<table border=\"1\" class=\"dataframe\">\n",
              "  <thead>\n",
              "    <tr style=\"text-align: right;\">\n",
              "      <th></th>\n",
              "      <th>number</th>\n",
              "      <th>art</th>\n",
              "      <th>name</th>\n",
              "      <th>link</th>\n",
              "    </tr>\n",
              "  </thead>\n",
              "  <tbody>\n",
              "    <tr>\n",
              "      <th>0</th>\n",
              "      <td>1</td>\n",
              "      <td>Б0051088</td>\n",
              "      <td>Модуль светодиодный ЭРА Аксессуары SPB-6 с пул...</td>\n",
              "      <td>https://era-world.ru/modul-svetodiodnyy-era-ak...</td>\n",
              "    </tr>\n",
              "    <tr>\n",
              "      <th>1</th>\n",
              "      <td>2</td>\n",
              "      <td>Б0051089</td>\n",
              "      <td>Модуль светодиодный ЭРА Аксессуары SPB-6 с пул...</td>\n",
              "      <td>https://era-world.ru/modul-svetodiodnyy-era-ak...</td>\n",
              "    </tr>\n",
              "    <tr>\n",
              "      <th>2</th>\n",
              "      <td>3</td>\n",
              "      <td>Б0051090</td>\n",
              "      <td>Модуль светодиодный ЭРА Аксессуары SPB-6 с пул...</td>\n",
              "      <td>https://era-world.ru/modul-svetodiodnyy-era-ak...</td>\n",
              "    </tr>\n",
              "    <tr>\n",
              "      <th>3</th>\n",
              "      <td>4</td>\n",
              "      <td>Б0051091</td>\n",
              "      <td>Модуль светодиодный ЭРА Аксессуары SPB-6 с пул...</td>\n",
              "      <td>https://era-world.ru/modul-svetodiodnyy-era-ak...</td>\n",
              "    </tr>\n",
              "    <tr>\n",
              "      <th>4</th>\n",
              "      <td>5</td>\n",
              "      <td>Б0051103</td>\n",
              "      <td>Плафон ЭРА Подвесной к-т SPB-6 - подвесной ком...</td>\n",
              "      <td>https://era-world.ru/plafon-era-podvesnoy-k-t-...</td>\n",
              "    </tr>\n",
              "    <tr>\n",
              "      <th>...</th>\n",
              "      <td>...</td>\n",
              "      <td>...</td>\n",
              "      <td>...</td>\n",
              "      <td>...</td>\n",
              "    </tr>\n",
              "    <tr>\n",
              "      <th>2277</th>\n",
              "      <td>93</td>\n",
              "      <td>Б0052013</td>\n",
              "      <td>Светильник ЭРА НСП 01-60-003 подвесной Гранат ...</td>\n",
              "      <td>https://era-world.ru/svetil-nik-era-nsp-01-60-...</td>\n",
              "    </tr>\n",
              "    <tr>\n",
              "      <th>2278</th>\n",
              "      <td>94</td>\n",
              "      <td>Б0052017</td>\n",
              "      <td>Светильник ЭРА НСП 02-100-001 без решетки Желу...</td>\n",
              "      <td>https://era-world.ru/svetil-nik-era-nsp-02-100...</td>\n",
              "    </tr>\n",
              "    <tr>\n",
              "      <th>2279</th>\n",
              "      <td>95</td>\n",
              "      <td>Б0052019</td>\n",
              "      <td>Светильник ЭРА НСП 02-100-003 с решеткой Желуд...</td>\n",
              "      <td>https://era-world.ru/svetil-nik-era-nsp-02-100...</td>\n",
              "    </tr>\n",
              "    <tr>\n",
              "      <th>2280</th>\n",
              "      <td>96</td>\n",
              "      <td>Б0052018</td>\n",
              "      <td>Светильник ЭРА НСП 41-200-001 без решетки Желу...</td>\n",
              "      <td>https://era-world.ru/svetil-nik-era-nsp-41-200...</td>\n",
              "    </tr>\n",
              "    <tr>\n",
              "      <th>2281</th>\n",
              "      <td>97</td>\n",
              "      <td>Б0052020</td>\n",
              "      <td>Светильник ЭРА НСП 41-200-003 с решеткой Желуд...</td>\n",
              "      <td>https://era-world.ru/svetil-nik-era-nsp-41-200...</td>\n",
              "    </tr>\n",
              "  </tbody>\n",
              "</table>\n",
              "<p>2282 rows × 4 columns</p>\n",
              "</div>\n",
              "      <button class=\"colab-df-convert\" onclick=\"convertToInteractive('df-737dc84c-9128-4646-bf04-639d49eb7923')\"\n",
              "              title=\"Convert this dataframe to an interactive table.\"\n",
              "              style=\"display:none;\">\n",
              "        \n",
              "  <svg xmlns=\"http://www.w3.org/2000/svg\" height=\"24px\"viewBox=\"0 0 24 24\"\n",
              "       width=\"24px\">\n",
              "    <path d=\"M0 0h24v24H0V0z\" fill=\"none\"/>\n",
              "    <path d=\"M18.56 5.44l.94 2.06.94-2.06 2.06-.94-2.06-.94-.94-2.06-.94 2.06-2.06.94zm-11 1L8.5 8.5l.94-2.06 2.06-.94-2.06-.94L8.5 2.5l-.94 2.06-2.06.94zm10 10l.94 2.06.94-2.06 2.06-.94-2.06-.94-.94-2.06-.94 2.06-2.06.94z\"/><path d=\"M17.41 7.96l-1.37-1.37c-.4-.4-.92-.59-1.43-.59-.52 0-1.04.2-1.43.59L10.3 9.45l-7.72 7.72c-.78.78-.78 2.05 0 2.83L4 21.41c.39.39.9.59 1.41.59.51 0 1.02-.2 1.41-.59l7.78-7.78 2.81-2.81c.8-.78.8-2.07 0-2.86zM5.41 20L4 18.59l7.72-7.72 1.47 1.35L5.41 20z\"/>\n",
              "  </svg>\n",
              "      </button>\n",
              "      \n",
              "  <style>\n",
              "    .colab-df-container {\n",
              "      display:flex;\n",
              "      flex-wrap:wrap;\n",
              "      gap: 12px;\n",
              "    }\n",
              "\n",
              "    .colab-df-convert {\n",
              "      background-color: #E8F0FE;\n",
              "      border: none;\n",
              "      border-radius: 50%;\n",
              "      cursor: pointer;\n",
              "      display: none;\n",
              "      fill: #1967D2;\n",
              "      height: 32px;\n",
              "      padding: 0 0 0 0;\n",
              "      width: 32px;\n",
              "    }\n",
              "\n",
              "    .colab-df-convert:hover {\n",
              "      background-color: #E2EBFA;\n",
              "      box-shadow: 0px 1px 2px rgba(60, 64, 67, 0.3), 0px 1px 3px 1px rgba(60, 64, 67, 0.15);\n",
              "      fill: #174EA6;\n",
              "    }\n",
              "\n",
              "    [theme=dark] .colab-df-convert {\n",
              "      background-color: #3B4455;\n",
              "      fill: #D2E3FC;\n",
              "    }\n",
              "\n",
              "    [theme=dark] .colab-df-convert:hover {\n",
              "      background-color: #434B5C;\n",
              "      box-shadow: 0px 1px 3px 1px rgba(0, 0, 0, 0.15);\n",
              "      filter: drop-shadow(0px 1px 2px rgba(0, 0, 0, 0.3));\n",
              "      fill: #FFFFFF;\n",
              "    }\n",
              "  </style>\n",
              "\n",
              "      <script>\n",
              "        const buttonEl =\n",
              "          document.querySelector('#df-737dc84c-9128-4646-bf04-639d49eb7923 button.colab-df-convert');\n",
              "        buttonEl.style.display =\n",
              "          google.colab.kernel.accessAllowed ? 'block' : 'none';\n",
              "\n",
              "        async function convertToInteractive(key) {\n",
              "          const element = document.querySelector('#df-737dc84c-9128-4646-bf04-639d49eb7923');\n",
              "          const dataTable =\n",
              "            await google.colab.kernel.invokeFunction('convertToInteractive',\n",
              "                                                     [key], {});\n",
              "          if (!dataTable) return;\n",
              "\n",
              "          const docLinkHtml = 'Like what you see? Visit the ' +\n",
              "            '<a target=\"_blank\" href=https://colab.research.google.com/notebooks/data_table.ipynb>data table notebook</a>'\n",
              "            + ' to learn more about interactive tables.';\n",
              "          element.innerHTML = '';\n",
              "          dataTable['output_type'] = 'display_data';\n",
              "          await google.colab.output.renderOutput(dataTable, element);\n",
              "          const docLink = document.createElement('div');\n",
              "          docLink.innerHTML = docLinkHtml;\n",
              "          element.appendChild(docLink);\n",
              "        }\n",
              "      </script>\n",
              "    </div>\n",
              "  </div>\n",
              "  "
            ]
          },
          "metadata": {},
          "execution_count": 94
        }
      ]
    },
    {
      "cell_type": "code",
      "source": [
        "# Формируем суп-объект\n",
        "\n",
        "def get_soup(url):\n",
        "  session = requests.session()\n",
        "  session.headers = {\n",
        "        \"User-Agent\": \"Mozilla/5.0 (Windows NT 10.0; Win64; x64) AppleWebKit/537.36 (KHTML, like Gecko) Chrome/107.0.0.0 Safari/537.36\",\n",
        "        \"Accept-language\": \"ru-RU,ru;q=0.9,en-US;q=0.8,en;q=0.7\"\n",
        "  }\n",
        "\n",
        "  res = session.get(url)\n",
        "  html = res.text\n",
        "  soup = BeautifulSoup(html, \"lxml\")\n",
        "  return soup\n"
      ],
      "metadata": {
        "id": "LciRoDScHDZS"
      },
      "execution_count": null,
      "outputs": []
    },
    {
      "cell_type": "code",
      "source": [
        "d = df.sample(4)\n",
        "d"
      ],
      "metadata": {
        "colab": {
          "base_uri": "https://localhost:8080/",
          "height": 288
        },
        "id": "9bpPiHYAgoJi",
        "outputId": "968d1dd8-b33f-4cc3-a7fc-bf6b8e164abc"
      },
      "execution_count": null,
      "outputs": [
        {
          "output_type": "execute_result",
          "data": {
            "text/plain": [
              "      number       art                                               name  \\\n",
              "864      511  Б0049070  Лампочка светодиодная ЭРА STD LED MR16-6W-860-...   \n",
              "605      252  Б0049641  Лампочка светодиодная ЭРА RED LINE LED B35-10W...   \n",
              "1073      34  Б0052773  Настольный светильник ЭРА NLED-497-12W-G свето...   \n",
              "1746      89  Б0036497  DK LED 16 SL/WH Светильник ЭРА светодиодный кр...   \n",
              "\n",
              "                                                   link  \\\n",
              "864   https://era-world.ru/lampochka-svetodiodnaya-e...   \n",
              "605   https://era-world.ru/lampochka-svetodiodnaya-e...   \n",
              "1073  https://era-world.ru/nastol-nyy-svetil-nik-era...   \n",
              "1746  https://era-world.ru/dk-led-16-sl-wh-svetil-ni...   \n",
              "\n",
              "                                                   char  \\\n",
              "864   [[Модель, Светоодача, Лм/Вт, Диаметр, Форма ко...   \n",
              "605   [[Условия хранения, Светоотдача, Аналог лампы ...   \n",
              "1073  [[Срок службы или срок годности, Класс защиты ...   \n",
              "1746  [[Световой поток, лм, Цвет подсветки, Условия ...   \n",
              "\n",
              "                                                chardic  \n",
              "864   {'Модель': 'LED MR16-6W-860-GU10', 'Светоодача...  \n",
              "605   {'Условия хранения': 'нет особых условий хране...  \n",
              "1073  {'Срок службы или срок годности': '-', 'Класс ...  \n",
              "1746  {'Световой поток, лм': '105', 'Цвет подсветки'...  "
            ],
            "text/html": [
              "\n",
              "  <div id=\"df-5ede3fd6-e396-49f8-b6a8-3f70e1156687\">\n",
              "    <div class=\"colab-df-container\">\n",
              "      <div>\n",
              "<style scoped>\n",
              "    .dataframe tbody tr th:only-of-type {\n",
              "        vertical-align: middle;\n",
              "    }\n",
              "\n",
              "    .dataframe tbody tr th {\n",
              "        vertical-align: top;\n",
              "    }\n",
              "\n",
              "    .dataframe thead th {\n",
              "        text-align: right;\n",
              "    }\n",
              "</style>\n",
              "<table border=\"1\" class=\"dataframe\">\n",
              "  <thead>\n",
              "    <tr style=\"text-align: right;\">\n",
              "      <th></th>\n",
              "      <th>number</th>\n",
              "      <th>art</th>\n",
              "      <th>name</th>\n",
              "      <th>link</th>\n",
              "      <th>char</th>\n",
              "      <th>chardic</th>\n",
              "    </tr>\n",
              "  </thead>\n",
              "  <tbody>\n",
              "    <tr>\n",
              "      <th>864</th>\n",
              "      <td>511</td>\n",
              "      <td>Б0049070</td>\n",
              "      <td>Лампочка светодиодная ЭРА STD LED MR16-6W-860-...</td>\n",
              "      <td>https://era-world.ru/lampochka-svetodiodnaya-e...</td>\n",
              "      <td>[[Модель, Светоодача, Лм/Вт, Диаметр, Форма ко...</td>\n",
              "      <td>{'Модель': 'LED MR16-6W-860-GU10', 'Светоодача...</td>\n",
              "    </tr>\n",
              "    <tr>\n",
              "      <th>605</th>\n",
              "      <td>252</td>\n",
              "      <td>Б0049641</td>\n",
              "      <td>Лампочка светодиодная ЭРА RED LINE LED B35-10W...</td>\n",
              "      <td>https://era-world.ru/lampochka-svetodiodnaya-e...</td>\n",
              "      <td>[[Условия хранения, Светоотдача, Аналог лампы ...</td>\n",
              "      <td>{'Условия хранения': 'нет особых условий хране...</td>\n",
              "    </tr>\n",
              "    <tr>\n",
              "      <th>1073</th>\n",
              "      <td>34</td>\n",
              "      <td>Б0052773</td>\n",
              "      <td>Настольный светильник ЭРА NLED-497-12W-G свето...</td>\n",
              "      <td>https://era-world.ru/nastol-nyy-svetil-nik-era...</td>\n",
              "      <td>[[Срок службы или срок годности, Класс защиты ...</td>\n",
              "      <td>{'Срок службы или срок годности': '-', 'Класс ...</td>\n",
              "    </tr>\n",
              "    <tr>\n",
              "      <th>1746</th>\n",
              "      <td>89</td>\n",
              "      <td>Б0036497</td>\n",
              "      <td>DK LED 16 SL/WH Светильник ЭРА светодиодный кр...</td>\n",
              "      <td>https://era-world.ru/dk-led-16-sl-wh-svetil-ni...</td>\n",
              "      <td>[[Световой поток, лм, Цвет подсветки, Условия ...</td>\n",
              "      <td>{'Световой поток, лм': '105', 'Цвет подсветки'...</td>\n",
              "    </tr>\n",
              "  </tbody>\n",
              "</table>\n",
              "</div>\n",
              "      <button class=\"colab-df-convert\" onclick=\"convertToInteractive('df-5ede3fd6-e396-49f8-b6a8-3f70e1156687')\"\n",
              "              title=\"Convert this dataframe to an interactive table.\"\n",
              "              style=\"display:none;\">\n",
              "        \n",
              "  <svg xmlns=\"http://www.w3.org/2000/svg\" height=\"24px\"viewBox=\"0 0 24 24\"\n",
              "       width=\"24px\">\n",
              "    <path d=\"M0 0h24v24H0V0z\" fill=\"none\"/>\n",
              "    <path d=\"M18.56 5.44l.94 2.06.94-2.06 2.06-.94-2.06-.94-.94-2.06-.94 2.06-2.06.94zm-11 1L8.5 8.5l.94-2.06 2.06-.94-2.06-.94L8.5 2.5l-.94 2.06-2.06.94zm10 10l.94 2.06.94-2.06 2.06-.94-2.06-.94-.94-2.06-.94 2.06-2.06.94z\"/><path d=\"M17.41 7.96l-1.37-1.37c-.4-.4-.92-.59-1.43-.59-.52 0-1.04.2-1.43.59L10.3 9.45l-7.72 7.72c-.78.78-.78 2.05 0 2.83L4 21.41c.39.39.9.59 1.41.59.51 0 1.02-.2 1.41-.59l7.78-7.78 2.81-2.81c.8-.78.8-2.07 0-2.86zM5.41 20L4 18.59l7.72-7.72 1.47 1.35L5.41 20z\"/>\n",
              "  </svg>\n",
              "      </button>\n",
              "      \n",
              "  <style>\n",
              "    .colab-df-container {\n",
              "      display:flex;\n",
              "      flex-wrap:wrap;\n",
              "      gap: 12px;\n",
              "    }\n",
              "\n",
              "    .colab-df-convert {\n",
              "      background-color: #E8F0FE;\n",
              "      border: none;\n",
              "      border-radius: 50%;\n",
              "      cursor: pointer;\n",
              "      display: none;\n",
              "      fill: #1967D2;\n",
              "      height: 32px;\n",
              "      padding: 0 0 0 0;\n",
              "      width: 32px;\n",
              "    }\n",
              "\n",
              "    .colab-df-convert:hover {\n",
              "      background-color: #E2EBFA;\n",
              "      box-shadow: 0px 1px 2px rgba(60, 64, 67, 0.3), 0px 1px 3px 1px rgba(60, 64, 67, 0.15);\n",
              "      fill: #174EA6;\n",
              "    }\n",
              "\n",
              "    [theme=dark] .colab-df-convert {\n",
              "      background-color: #3B4455;\n",
              "      fill: #D2E3FC;\n",
              "    }\n",
              "\n",
              "    [theme=dark] .colab-df-convert:hover {\n",
              "      background-color: #434B5C;\n",
              "      box-shadow: 0px 1px 3px 1px rgba(0, 0, 0, 0.15);\n",
              "      filter: drop-shadow(0px 1px 2px rgba(0, 0, 0, 0.3));\n",
              "      fill: #FFFFFF;\n",
              "    }\n",
              "  </style>\n",
              "\n",
              "      <script>\n",
              "        const buttonEl =\n",
              "          document.querySelector('#df-5ede3fd6-e396-49f8-b6a8-3f70e1156687 button.colab-df-convert');\n",
              "        buttonEl.style.display =\n",
              "          google.colab.kernel.accessAllowed ? 'block' : 'none';\n",
              "\n",
              "        async function convertToInteractive(key) {\n",
              "          const element = document.querySelector('#df-5ede3fd6-e396-49f8-b6a8-3f70e1156687');\n",
              "          const dataTable =\n",
              "            await google.colab.kernel.invokeFunction('convertToInteractive',\n",
              "                                                     [key], {});\n",
              "          if (!dataTable) return;\n",
              "\n",
              "          const docLinkHtml = 'Like what you see? Visit the ' +\n",
              "            '<a target=\"_blank\" href=https://colab.research.google.com/notebooks/data_table.ipynb>data table notebook</a>'\n",
              "            + ' to learn more about interactive tables.';\n",
              "          element.innerHTML = '';\n",
              "          dataTable['output_type'] = 'display_data';\n",
              "          await google.colab.output.renderOutput(dataTable, element);\n",
              "          const docLink = document.createElement('div');\n",
              "          docLink.innerHTML = docLinkHtml;\n",
              "          element.appendChild(docLink);\n",
              "        }\n",
              "      </script>\n",
              "    </div>\n",
              "  </div>\n",
              "  "
            ]
          },
          "metadata": {},
          "execution_count": 130
        }
      ]
    },
    {
      "cell_type": "code",
      "source": [
        "char = []\n",
        "table = soup.select('table.v-product-features__table')\n",
        "nam = table[1].select('td.v-product-features__left')\n",
        "val = table[1].select('td.v-product-features__right')\n",
        "char.append(nam)\n",
        "char.append(val)"
      ],
      "metadata": {
        "id": "G6xe7zt5nzSB"
      },
      "execution_count": null,
      "outputs": []
    },
    {
      "cell_type": "code",
      "source": [
        "char"
      ],
      "metadata": {
        "id": "e-Qtoqa_ob0P"
      },
      "execution_count": null,
      "outputs": []
    },
    {
      "cell_type": "code",
      "source": [
        "def char_parse(row):\n",
        "  try:    \n",
        "    soup = get_soup(row)\n",
        "    char = []\n",
        "    table = soup.select('table.v-product-features__table')\n",
        "    nam = table[1].select('td.v-product-features__left')\n",
        "    val = table[1].select('td.v-product-features__right')\n",
        "    char.append(nam)\n",
        "    char.append(val)\n",
        "    return char\n",
        "  except:\n",
        "    char = []\n",
        "    return char"
      ],
      "metadata": {
        "id": "BU56wfhBuNDq"
      },
      "execution_count": null,
      "outputs": []
    },
    {
      "cell_type": "code",
      "source": [
        "def dic_make(row):\n",
        "  dic = {}\n",
        "  try:\n",
        "    for i in range(len(row)):\n",
        "      for j in range(len(row[i])):\n",
        "        n = row[i][j].get_text()\n",
        "        row[i][j] = n\n",
        "    for i in range(len(row[0])):\n",
        "      y = {row[0][i]: row[1][i]}\n",
        "      dic.update(y)\n",
        "  except:\n",
        "    dic\n",
        "  return dic\n"
      ],
      "metadata": {
        "id": "Rz01yqN80nJt"
      },
      "execution_count": null,
      "outputs": []
    },
    {
      "cell_type": "code",
      "source": [
        "df['char'] = df['link'].apply(char_parse)"
      ],
      "metadata": {
        "id": "8hnKBI92y3sP"
      },
      "execution_count": null,
      "outputs": []
    },
    {
      "cell_type": "code",
      "source": [
        "df"
      ],
      "metadata": {
        "colab": {
          "base_uri": "https://localhost:8080/",
          "height": 424
        },
        "id": "yhjyMqcVzT1q",
        "outputId": "b8afcddd-7f97-4b9f-9b0f-3829e3f94a43"
      },
      "execution_count": null,
      "outputs": [
        {
          "output_type": "execute_result",
          "data": {
            "text/plain": [
              "      number       art                                               name  \\\n",
              "0          1  Б0051088  Модуль светодиодный ЭРА Аксессуары SPB-6 с пул...   \n",
              "1          2  Б0051089  Модуль светодиодный ЭРА Аксессуары SPB-6 с пул...   \n",
              "2          3  Б0051090  Модуль светодиодный ЭРА Аксессуары SPB-6 с пул...   \n",
              "3          4  Б0051091  Модуль светодиодный ЭРА Аксессуары SPB-6 с пул...   \n",
              "4          5  Б0051103  Плафон ЭРА Подвесной к-т SPB-6 - подвесной ком...   \n",
              "...      ...       ...                                                ...   \n",
              "2277      93  Б0052013  Светильник ЭРА НСП 01-60-003 подвесной Гранат ...   \n",
              "2278      94  Б0052017  Светильник ЭРА НСП 02-100-001 без решетки Желу...   \n",
              "2279      95  Б0052019  Светильник ЭРА НСП 02-100-003 с решеткой Желуд...   \n",
              "2280      96  Б0052018  Светильник ЭРА НСП 41-200-001 без решетки Желу...   \n",
              "2281      97  Б0052020  Светильник ЭРА НСП 41-200-003 с решеткой Желуд...   \n",
              "\n",
              "                                                   link  \\\n",
              "0     https://era-world.ru/modul-svetodiodnyy-era-ak...   \n",
              "1     https://era-world.ru/modul-svetodiodnyy-era-ak...   \n",
              "2     https://era-world.ru/modul-svetodiodnyy-era-ak...   \n",
              "3     https://era-world.ru/modul-svetodiodnyy-era-ak...   \n",
              "4     https://era-world.ru/plafon-era-podvesnoy-k-t-...   \n",
              "...                                                 ...   \n",
              "2277  https://era-world.ru/svetil-nik-era-nsp-01-60-...   \n",
              "2278  https://era-world.ru/svetil-nik-era-nsp-02-100...   \n",
              "2279  https://era-world.ru/svetil-nik-era-nsp-02-100...   \n",
              "2280  https://era-world.ru/svetil-nik-era-nsp-41-200...   \n",
              "2281  https://era-world.ru/svetil-nik-era-nsp-41-200...   \n",
              "\n",
              "                                                   char  \n",
              "0     [[[<span class=\"v-product-features__name\">Гара...  \n",
              "1     [[[<span class=\"v-product-features__name\">Габа...  \n",
              "2     [[[<span class=\"v-product-features__name\">Габа...  \n",
              "3     [[[<span class=\"v-product-features__name\">Цвет...  \n",
              "4     [[[<span class=\"v-product-features__name\">Реко...  \n",
              "...                                                 ...  \n",
              "2277  [[[<span class=\"v-product-features__name\">Габа...  \n",
              "2278  [[[<span class=\"v-product-features__name\">Мате...  \n",
              "2279  [[[<span class=\"v-product-features__name\">Мате...  \n",
              "2280  [[[<span class=\"v-product-features__name\">Исто...  \n",
              "2281  [[[<span class=\"v-product-features__name\">Мате...  \n",
              "\n",
              "[2282 rows x 5 columns]"
            ],
            "text/html": [
              "\n",
              "  <div id=\"df-cc28d4f2-6469-4c6e-bb57-4d2bd67e66e8\">\n",
              "    <div class=\"colab-df-container\">\n",
              "      <div>\n",
              "<style scoped>\n",
              "    .dataframe tbody tr th:only-of-type {\n",
              "        vertical-align: middle;\n",
              "    }\n",
              "\n",
              "    .dataframe tbody tr th {\n",
              "        vertical-align: top;\n",
              "    }\n",
              "\n",
              "    .dataframe thead th {\n",
              "        text-align: right;\n",
              "    }\n",
              "</style>\n",
              "<table border=\"1\" class=\"dataframe\">\n",
              "  <thead>\n",
              "    <tr style=\"text-align: right;\">\n",
              "      <th></th>\n",
              "      <th>number</th>\n",
              "      <th>art</th>\n",
              "      <th>name</th>\n",
              "      <th>link</th>\n",
              "      <th>char</th>\n",
              "    </tr>\n",
              "  </thead>\n",
              "  <tbody>\n",
              "    <tr>\n",
              "      <th>0</th>\n",
              "      <td>1</td>\n",
              "      <td>Б0051088</td>\n",
              "      <td>Модуль светодиодный ЭРА Аксессуары SPB-6 с пул...</td>\n",
              "      <td>https://era-world.ru/modul-svetodiodnyy-era-ak...</td>\n",
              "      <td>[[[&lt;span class=\"v-product-features__name\"&gt;Гара...</td>\n",
              "    </tr>\n",
              "    <tr>\n",
              "      <th>1</th>\n",
              "      <td>2</td>\n",
              "      <td>Б0051089</td>\n",
              "      <td>Модуль светодиодный ЭРА Аксессуары SPB-6 с пул...</td>\n",
              "      <td>https://era-world.ru/modul-svetodiodnyy-era-ak...</td>\n",
              "      <td>[[[&lt;span class=\"v-product-features__name\"&gt;Габа...</td>\n",
              "    </tr>\n",
              "    <tr>\n",
              "      <th>2</th>\n",
              "      <td>3</td>\n",
              "      <td>Б0051090</td>\n",
              "      <td>Модуль светодиодный ЭРА Аксессуары SPB-6 с пул...</td>\n",
              "      <td>https://era-world.ru/modul-svetodiodnyy-era-ak...</td>\n",
              "      <td>[[[&lt;span class=\"v-product-features__name\"&gt;Габа...</td>\n",
              "    </tr>\n",
              "    <tr>\n",
              "      <th>3</th>\n",
              "      <td>4</td>\n",
              "      <td>Б0051091</td>\n",
              "      <td>Модуль светодиодный ЭРА Аксессуары SPB-6 с пул...</td>\n",
              "      <td>https://era-world.ru/modul-svetodiodnyy-era-ak...</td>\n",
              "      <td>[[[&lt;span class=\"v-product-features__name\"&gt;Цвет...</td>\n",
              "    </tr>\n",
              "    <tr>\n",
              "      <th>4</th>\n",
              "      <td>5</td>\n",
              "      <td>Б0051103</td>\n",
              "      <td>Плафон ЭРА Подвесной к-т SPB-6 - подвесной ком...</td>\n",
              "      <td>https://era-world.ru/plafon-era-podvesnoy-k-t-...</td>\n",
              "      <td>[[[&lt;span class=\"v-product-features__name\"&gt;Реко...</td>\n",
              "    </tr>\n",
              "    <tr>\n",
              "      <th>...</th>\n",
              "      <td>...</td>\n",
              "      <td>...</td>\n",
              "      <td>...</td>\n",
              "      <td>...</td>\n",
              "      <td>...</td>\n",
              "    </tr>\n",
              "    <tr>\n",
              "      <th>2277</th>\n",
              "      <td>93</td>\n",
              "      <td>Б0052013</td>\n",
              "      <td>Светильник ЭРА НСП 01-60-003 подвесной Гранат ...</td>\n",
              "      <td>https://era-world.ru/svetil-nik-era-nsp-01-60-...</td>\n",
              "      <td>[[[&lt;span class=\"v-product-features__name\"&gt;Габа...</td>\n",
              "    </tr>\n",
              "    <tr>\n",
              "      <th>2278</th>\n",
              "      <td>94</td>\n",
              "      <td>Б0052017</td>\n",
              "      <td>Светильник ЭРА НСП 02-100-001 без решетки Желу...</td>\n",
              "      <td>https://era-world.ru/svetil-nik-era-nsp-02-100...</td>\n",
              "      <td>[[[&lt;span class=\"v-product-features__name\"&gt;Мате...</td>\n",
              "    </tr>\n",
              "    <tr>\n",
              "      <th>2279</th>\n",
              "      <td>95</td>\n",
              "      <td>Б0052019</td>\n",
              "      <td>Светильник ЭРА НСП 02-100-003 с решеткой Желуд...</td>\n",
              "      <td>https://era-world.ru/svetil-nik-era-nsp-02-100...</td>\n",
              "      <td>[[[&lt;span class=\"v-product-features__name\"&gt;Мате...</td>\n",
              "    </tr>\n",
              "    <tr>\n",
              "      <th>2280</th>\n",
              "      <td>96</td>\n",
              "      <td>Б0052018</td>\n",
              "      <td>Светильник ЭРА НСП 41-200-001 без решетки Желу...</td>\n",
              "      <td>https://era-world.ru/svetil-nik-era-nsp-41-200...</td>\n",
              "      <td>[[[&lt;span class=\"v-product-features__name\"&gt;Исто...</td>\n",
              "    </tr>\n",
              "    <tr>\n",
              "      <th>2281</th>\n",
              "      <td>97</td>\n",
              "      <td>Б0052020</td>\n",
              "      <td>Светильник ЭРА НСП 41-200-003 с решеткой Желуд...</td>\n",
              "      <td>https://era-world.ru/svetil-nik-era-nsp-41-200...</td>\n",
              "      <td>[[[&lt;span class=\"v-product-features__name\"&gt;Мате...</td>\n",
              "    </tr>\n",
              "  </tbody>\n",
              "</table>\n",
              "<p>2282 rows × 5 columns</p>\n",
              "</div>\n",
              "      <button class=\"colab-df-convert\" onclick=\"convertToInteractive('df-cc28d4f2-6469-4c6e-bb57-4d2bd67e66e8')\"\n",
              "              title=\"Convert this dataframe to an interactive table.\"\n",
              "              style=\"display:none;\">\n",
              "        \n",
              "  <svg xmlns=\"http://www.w3.org/2000/svg\" height=\"24px\"viewBox=\"0 0 24 24\"\n",
              "       width=\"24px\">\n",
              "    <path d=\"M0 0h24v24H0V0z\" fill=\"none\"/>\n",
              "    <path d=\"M18.56 5.44l.94 2.06.94-2.06 2.06-.94-2.06-.94-.94-2.06-.94 2.06-2.06.94zm-11 1L8.5 8.5l.94-2.06 2.06-.94-2.06-.94L8.5 2.5l-.94 2.06-2.06.94zm10 10l.94 2.06.94-2.06 2.06-.94-2.06-.94-.94-2.06-.94 2.06-2.06.94z\"/><path d=\"M17.41 7.96l-1.37-1.37c-.4-.4-.92-.59-1.43-.59-.52 0-1.04.2-1.43.59L10.3 9.45l-7.72 7.72c-.78.78-.78 2.05 0 2.83L4 21.41c.39.39.9.59 1.41.59.51 0 1.02-.2 1.41-.59l7.78-7.78 2.81-2.81c.8-.78.8-2.07 0-2.86zM5.41 20L4 18.59l7.72-7.72 1.47 1.35L5.41 20z\"/>\n",
              "  </svg>\n",
              "      </button>\n",
              "      \n",
              "  <style>\n",
              "    .colab-df-container {\n",
              "      display:flex;\n",
              "      flex-wrap:wrap;\n",
              "      gap: 12px;\n",
              "    }\n",
              "\n",
              "    .colab-df-convert {\n",
              "      background-color: #E8F0FE;\n",
              "      border: none;\n",
              "      border-radius: 50%;\n",
              "      cursor: pointer;\n",
              "      display: none;\n",
              "      fill: #1967D2;\n",
              "      height: 32px;\n",
              "      padding: 0 0 0 0;\n",
              "      width: 32px;\n",
              "    }\n",
              "\n",
              "    .colab-df-convert:hover {\n",
              "      background-color: #E2EBFA;\n",
              "      box-shadow: 0px 1px 2px rgba(60, 64, 67, 0.3), 0px 1px 3px 1px rgba(60, 64, 67, 0.15);\n",
              "      fill: #174EA6;\n",
              "    }\n",
              "\n",
              "    [theme=dark] .colab-df-convert {\n",
              "      background-color: #3B4455;\n",
              "      fill: #D2E3FC;\n",
              "    }\n",
              "\n",
              "    [theme=dark] .colab-df-convert:hover {\n",
              "      background-color: #434B5C;\n",
              "      box-shadow: 0px 1px 3px 1px rgba(0, 0, 0, 0.15);\n",
              "      filter: drop-shadow(0px 1px 2px rgba(0, 0, 0, 0.3));\n",
              "      fill: #FFFFFF;\n",
              "    }\n",
              "  </style>\n",
              "\n",
              "      <script>\n",
              "        const buttonEl =\n",
              "          document.querySelector('#df-cc28d4f2-6469-4c6e-bb57-4d2bd67e66e8 button.colab-df-convert');\n",
              "        buttonEl.style.display =\n",
              "          google.colab.kernel.accessAllowed ? 'block' : 'none';\n",
              "\n",
              "        async function convertToInteractive(key) {\n",
              "          const element = document.querySelector('#df-cc28d4f2-6469-4c6e-bb57-4d2bd67e66e8');\n",
              "          const dataTable =\n",
              "            await google.colab.kernel.invokeFunction('convertToInteractive',\n",
              "                                                     [key], {});\n",
              "          if (!dataTable) return;\n",
              "\n",
              "          const docLinkHtml = 'Like what you see? Visit the ' +\n",
              "            '<a target=\"_blank\" href=https://colab.research.google.com/notebooks/data_table.ipynb>data table notebook</a>'\n",
              "            + ' to learn more about interactive tables.';\n",
              "          element.innerHTML = '';\n",
              "          dataTable['output_type'] = 'display_data';\n",
              "          await google.colab.output.renderOutput(dataTable, element);\n",
              "          const docLink = document.createElement('div');\n",
              "          docLink.innerHTML = docLinkHtml;\n",
              "          element.appendChild(docLink);\n",
              "        }\n",
              "      </script>\n",
              "    </div>\n",
              "  </div>\n",
              "  "
            ]
          },
          "metadata": {},
          "execution_count": 99
        }
      ]
    },
    {
      "cell_type": "code",
      "source": [
        "df['chardic'] = df['char'].apply(dic_make)"
      ],
      "metadata": {
        "id": "hAjq1PHkD0ct"
      },
      "execution_count": null,
      "outputs": []
    },
    {
      "cell_type": "code",
      "source": [
        "# Записываем объедененные csv в итоговый Excel\n",
        "\n",
        "writer = pd.ExcelWriter('char_parse4.xlsx') # write dataframe to excel \n",
        "dataset.to_excel(writer) # save the excel \n",
        "writer.save()"
      ],
      "metadata": {
        "id": "FLssxE6NbRXs"
      },
      "execution_count": null,
      "outputs": []
    },
    {
      "cell_type": "markdown",
      "source": [
        "# обработка"
      ],
      "metadata": {
        "id": "69oPuTffmKET"
      }
    },
    {
      "cell_type": "code",
      "execution_count": null,
      "metadata": {
        "colab": {
          "base_uri": "https://localhost:8080/"
        },
        "outputId": "0d72f1ce-3b95-487c-fb94-697fd825d61c",
        "id": "b8EE7KgTl0J2"
      },
      "outputs": [
        {
          "output_type": "stream",
          "name": "stdout",
          "text": [
            "/usr/local/lib/python3.8/dist-packages/gdown/cli.py:127: FutureWarning: Option `--id` was deprecated in version 4.3.1 and will be removed in 5.0. You don't need to pass it anymore to use a file ID.\n",
            "  warnings.warn(\n",
            "Downloading...\n",
            "From: https://drive.google.com/uc?id=1JKD_zYnhAa4apnrJPGdSnZmcq7iAHPTB\n",
            "To: /content/char_parse.xlsx\n",
            "100% 634k/634k [00:00<00:00, 97.4MB/s]\n"
          ]
        }
      ],
      "source": [
        "# Подключаем загрузку файла датасета с Гугл Диска\n",
        "\n",
        "!gdown --id 1JKD_zYnhAa4apnrJPGdSnZmcq7iAHPTB"
      ]
    },
    {
      "cell_type": "code",
      "source": [
        "import pandas as pd\n",
        "import numpy as np\n",
        "import requests\n",
        "from bs4 import BeautifulSoup\n",
        "import lxml\n",
        "import json\n",
        "import time\n",
        "import csv\n"
      ],
      "metadata": {
        "id": "fshCQN4Kl0J3"
      },
      "execution_count": null,
      "outputs": []
    },
    {
      "cell_type": "code",
      "source": [
        "# Записываем подгруженный файл excel в датафрейм, выводим информацию о нем\n",
        "\n",
        "df = pd.read_excel('char_parse.xlsx')"
      ],
      "metadata": {
        "id": "Qt6jTzXfl0J3"
      },
      "execution_count": null,
      "outputs": []
    },
    {
      "cell_type": "code",
      "source": [
        "df.columns"
      ],
      "metadata": {
        "colab": {
          "base_uri": "https://localhost:8080/"
        },
        "id": "-Av9NmJuzjRv",
        "outputId": "4b7076d8-8378-45d8-f338-c9fb04584be8"
      },
      "execution_count": null,
      "outputs": [
        {
          "output_type": "execute_result",
          "data": {
            "text/plain": [
              "Index(['Unnamed: 0', 'number', 'art', 'name', 'link', 'char', 'chardic'], dtype='object')"
            ]
          },
          "metadata": {},
          "execution_count": 5
        }
      ]
    },
    {
      "cell_type": "code",
      "source": [
        "dfr = df[['number', 'art', 'name', 'link', 'chardic']]"
      ],
      "metadata": {
        "id": "hBQ_nG4czjO5"
      },
      "execution_count": null,
      "outputs": []
    },
    {
      "cell_type": "code",
      "source": [
        "dfr['chardic'] = dfr['chardic'].apply(eval)"
      ],
      "metadata": {
        "colab": {
          "base_uri": "https://localhost:8080/"
        },
        "id": "zDD2dbazoXX4",
        "outputId": "73de63e5-e9d4-4441-ab58-82458501951d"
      },
      "execution_count": null,
      "outputs": [
        {
          "output_type": "stream",
          "name": "stderr",
          "text": [
            "<ipython-input-20-56e5ea42eb74>:1: SettingWithCopyWarning: \n",
            "A value is trying to be set on a copy of a slice from a DataFrame.\n",
            "Try using .loc[row_indexer,col_indexer] = value instead\n",
            "\n",
            "See the caveats in the documentation: https://pandas.pydata.org/pandas-docs/stable/user_guide/indexing.html#returning-a-view-versus-a-copy\n",
            "  dfr['chardic'] = dfr['chardic'].apply(eval)\n"
          ]
        }
      ]
    },
    {
      "cell_type": "code",
      "source": [
        "lst = ['мощность', 'световой поток', 'цветовая температура', 'цокол', 'колбы']"
      ],
      "metadata": {
        "id": "s0AE5lfEB_1P"
      },
      "execution_count": null,
      "outputs": []
    },
    {
      "cell_type": "code",
      "source": [
        "def char_podbor(row):\n",
        "  chr = {}\n",
        "  for i in lst:\n",
        "    for j in row:\n",
        "      if i in j.lower():\n",
        "        y = {j: row[j]}\n",
        "        chr.update(y)\n",
        "  return chr "
      ],
      "metadata": {
        "id": "NJMdYlDccef2"
      },
      "execution_count": null,
      "outputs": []
    },
    {
      "cell_type": "code",
      "source": [
        "dfr['chr_lst'] = dfr['chardic'].apply(char_podbor)"
      ],
      "metadata": {
        "id": "_H7Xb8NxqZ17",
        "colab": {
          "base_uri": "https://localhost:8080/"
        },
        "outputId": "6f62d924-bea0-44fe-e10c-fd4efae346fa"
      },
      "execution_count": null,
      "outputs": [
        {
          "output_type": "stream",
          "name": "stderr",
          "text": [
            "<ipython-input-23-5978be2a6889>:1: SettingWithCopyWarning: \n",
            "A value is trying to be set on a copy of a slice from a DataFrame.\n",
            "Try using .loc[row_indexer,col_indexer] = value instead\n",
            "\n",
            "See the caveats in the documentation: https://pandas.pydata.org/pandas-docs/stable/user_guide/indexing.html#returning-a-view-versus-a-copy\n",
            "  dfr['chr_lst'] = dfr['chardic'].apply(char_podbor)\n"
          ]
        }
      ]
    },
    {
      "cell_type": "code",
      "source": [
        "dfr"
      ],
      "metadata": {
        "id": "UWlxBocd25UT"
      },
      "execution_count": null,
      "outputs": []
    },
    {
      "cell_type": "code",
      "source": [
        "dataset = dfr[['number', 'art', 'name', 'link', 'chr_lst']]"
      ],
      "metadata": {
        "id": "YCMOQKsbsEVt"
      },
      "execution_count": null,
      "outputs": []
    },
    {
      "cell_type": "code",
      "source": [
        "dataset"
      ],
      "metadata": {
        "id": "hWfvoX3z0Vbz"
      },
      "execution_count": null,
      "outputs": []
    },
    {
      "cell_type": "code",
      "source": [
        "def char_pow(row):\n",
        "  sep = {}\n",
        "  for i in row:\n",
        "    if 'мощность' in i.lower():\n",
        "      x = {i: row[i]}\n",
        "      sep.update(x)\n",
        "  return sep\n",
        "\n",
        "def char_sp(row):\n",
        "  sep = {}\n",
        "  for i in row:\n",
        "    if 'световой поток' in i.lower():\n",
        "      x = {i: row[i]}\n",
        "      sep.update(x)\n",
        "  return sep\n",
        "\n",
        "def char_ct(row):\n",
        "  sep = {}\n",
        "  for i in row:\n",
        "    if 'цветовая температура' in i.lower():\n",
        "      x = {i: row[i]}\n",
        "      sep.update(x)\n",
        "  return sep\n",
        "\n",
        "def char_zok(row):\n",
        "  sep = {}\n",
        "  for i in row:\n",
        "    if 'цокол' in i.lower():\n",
        "      x = {i: row[i]}\n",
        "      sep.update(x)\n",
        "  return sep\n",
        "\n",
        "def char_lam(row):\n",
        "  sep = {}\n",
        "  for i in row:\n",
        "    if 'колбы' in i.lower():\n",
        "      x = {i: row[i]}\n",
        "      sep.update(x)\n",
        "  return sep"
      ],
      "metadata": {
        "id": "2f5GBQaq8Opm"
      },
      "execution_count": null,
      "outputs": []
    },
    {
      "cell_type": "code",
      "source": [
        "dataset['power'] = dataset['chr_lst'].apply(char_pow)\n",
        "dataset['svet_potok'] = dataset['chr_lst'].apply(char_sp)\n",
        "dataset['cvet_temper'] = dataset['chr_lst'].apply(char_ct)\n",
        "dataset['cokol'] = dataset['chr_lst'].apply(char_zok)\n",
        "dataset['form_lamp'] = dataset['chr_lst'].apply(char_lam)"
      ],
      "metadata": {
        "id": "NE5hSXj5-Fck"
      },
      "execution_count": null,
      "outputs": []
    },
    {
      "cell_type": "code",
      "source": [
        "dataset"
      ],
      "metadata": {
        "id": "50pXOMJp-zG7"
      },
      "execution_count": null,
      "outputs": []
    },
    {
      "cell_type": "code",
      "source": [
        "# Записываем объедененные csv в итоговый Excel\n",
        "\n",
        "writer = pd.ExcelWriter('char_parse5.xlsx') # write dataframe to excel\n",
        "dataset.to_excel(writer) # save the excel\n",
        "writer.save()"
      ],
      "metadata": {
        "id": "v1kDMyWXo8Jf"
      },
      "execution_count": null,
      "outputs": []
    }
  ]
}